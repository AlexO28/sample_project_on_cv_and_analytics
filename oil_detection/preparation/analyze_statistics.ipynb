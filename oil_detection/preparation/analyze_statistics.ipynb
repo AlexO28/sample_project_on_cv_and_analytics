{
 "cells": [
  {
   "cell_type": "code",
   "execution_count": 1,
   "id": "f9d5920a",
   "metadata": {},
   "outputs": [],
   "source": [
    "# помечаем отсутствие нефти по дате и по краю\n",
    "# кластеризуем. в идеале мы бы хотели кластерами искать землю и не землю"
   ]
  },
  {
   "cell_type": "code",
   "execution_count": 2,
   "id": "a0df5f8f",
   "metadata": {},
   "outputs": [],
   "source": [
    "import pandas as pd"
   ]
  },
  {
   "cell_type": "code",
   "execution_count": 3,
   "id": "91f71cde",
   "metadata": {},
   "outputs": [],
   "source": [
    "tab = pd.read_csv('../statisics_for_maxar_data.csv')"
   ]
  },
  {
   "cell_type": "code",
   "execution_count": 4,
   "id": "ce68672e",
   "metadata": {},
   "outputs": [],
   "source": [
    "tab = tab.iloc[:, 1:]"
   ]
  },
  {
   "cell_type": "code",
   "execution_count": 5,
   "id": "c6f771e1",
   "metadata": {},
   "outputs": [
    {
     "data": {
      "text/html": [
       "<div>\n",
       "<style scoped>\n",
       "    .dataframe tbody tr th:only-of-type {\n",
       "        vertical-align: middle;\n",
       "    }\n",
       "\n",
       "    .dataframe tbody tr th {\n",
       "        vertical-align: top;\n",
       "    }\n",
       "\n",
       "    .dataframe thead th {\n",
       "        text-align: right;\n",
       "    }\n",
       "</style>\n",
       "<table border=\"1\" class=\"dataframe\">\n",
       "  <thead>\n",
       "    <tr style=\"text-align: right;\">\n",
       "      <th></th>\n",
       "      <th>file</th>\n",
       "      <th>mean_1</th>\n",
       "      <th>mean_2</th>\n",
       "      <th>mean_3</th>\n",
       "      <th>share_black</th>\n",
       "      <th>share_blue</th>\n",
       "      <th>share_brown</th>\n",
       "    </tr>\n",
       "  </thead>\n",
       "  <tbody>\n",
       "    <tr>\n",
       "      <th>0</th>\n",
       "      <td>maxar_11Sept_1_1_121.png</td>\n",
       "      <td>3.971194</td>\n",
       "      <td>-1.000000</td>\n",
       "      <td>-1.000000</td>\n",
       "      <td>0.975929</td>\n",
       "      <td>0.000000</td>\n",
       "      <td>0.000000</td>\n",
       "    </tr>\n",
       "    <tr>\n",
       "      <th>1</th>\n",
       "      <td>maxar_16thJuly_1_27_335.png</td>\n",
       "      <td>8.719782</td>\n",
       "      <td>14.980542</td>\n",
       "      <td>48.084315</td>\n",
       "      <td>0.432021</td>\n",
       "      <td>0.000004</td>\n",
       "      <td>0.000000</td>\n",
       "    </tr>\n",
       "    <tr>\n",
       "      <th>2</th>\n",
       "      <td>maxar_14Sept_1_13_180.png</td>\n",
       "      <td>114.169012</td>\n",
       "      <td>123.246468</td>\n",
       "      <td>87.522911</td>\n",
       "      <td>0.002528</td>\n",
       "      <td>0.002116</td>\n",
       "      <td>0.008070</td>\n",
       "    </tr>\n",
       "    <tr>\n",
       "      <th>3</th>\n",
       "      <td>maxar_11Sept_1_9_127.png</td>\n",
       "      <td>36.879239</td>\n",
       "      <td>-1.000000</td>\n",
       "      <td>-1.000000</td>\n",
       "      <td>0.607519</td>\n",
       "      <td>0.000000</td>\n",
       "      <td>0.000000</td>\n",
       "    </tr>\n",
       "    <tr>\n",
       "      <th>4</th>\n",
       "      <td>maxar_14Sept_1_2_148.png</td>\n",
       "      <td>250.580704</td>\n",
       "      <td>252.296048</td>\n",
       "      <td>250.878830</td>\n",
       "      <td>0.000000</td>\n",
       "      <td>0.943358</td>\n",
       "      <td>0.967063</td>\n",
       "    </tr>\n",
       "  </tbody>\n",
       "</table>\n",
       "</div>"
      ],
      "text/plain": [
       "                          file      mean_1      mean_2      mean_3  \\\n",
       "0     maxar_11Sept_1_1_121.png    3.971194   -1.000000   -1.000000   \n",
       "1  maxar_16thJuly_1_27_335.png    8.719782   14.980542   48.084315   \n",
       "2    maxar_14Sept_1_13_180.png  114.169012  123.246468   87.522911   \n",
       "3     maxar_11Sept_1_9_127.png   36.879239   -1.000000   -1.000000   \n",
       "4     maxar_14Sept_1_2_148.png  250.580704  252.296048  250.878830   \n",
       "\n",
       "   share_black  share_blue  share_brown  \n",
       "0     0.975929    0.000000     0.000000  \n",
       "1     0.432021    0.000004     0.000000  \n",
       "2     0.002528    0.002116     0.008070  \n",
       "3     0.607519    0.000000     0.000000  \n",
       "4     0.000000    0.943358     0.967063  "
      ]
     },
     "execution_count": 5,
     "metadata": {},
     "output_type": "execute_result"
    }
   ],
   "source": [
    "tab.head()"
   ]
  },
  {
   "cell_type": "code",
   "execution_count": 6,
   "id": "5b37f649",
   "metadata": {},
   "outputs": [],
   "source": [
    "tab['noOil'] = 0"
   ]
  },
  {
   "cell_type": "code",
   "execution_count": 7,
   "id": "56c85df4",
   "metadata": {},
   "outputs": [],
   "source": [
    "def mark_no_oil(tab):\n",
    "    tab.loc[tab['file'].str.contains('16thJuly'), 'noOil'] = 1\n",
    "    tab.loc[tab['file'].str.contains('_0_'), 'noOil'] = 1\n",
    "    tab.loc[tab['file'].str.contains('_0.'), 'noOil'] = 1\n",
    "    return tab"
   ]
  },
  {
   "cell_type": "code",
   "execution_count": 8,
   "id": "627c11a0",
   "metadata": {},
   "outputs": [],
   "source": [
    "tab = mark_no_oil(tab)"
   ]
  },
  {
   "cell_type": "code",
   "execution_count": 9,
   "id": "d55b5252",
   "metadata": {},
   "outputs": [
    {
     "data": {
      "text/plain": [
       "0    109601\n",
       "1     16466\n",
       "Name: noOil, dtype: int64"
      ]
     },
     "execution_count": 9,
     "metadata": {},
     "output_type": "execute_result"
    }
   ],
   "source": [
    "tab['noOil'].value_counts()"
   ]
  },
  {
   "cell_type": "code",
   "execution_count": 10,
   "id": "bb5f6830",
   "metadata": {},
   "outputs": [],
   "source": [
    "import hdbscan"
   ]
  },
  {
   "cell_type": "code",
   "execution_count": 11,
   "id": "29be7b6e",
   "metadata": {},
   "outputs": [],
   "source": [
    "clusterer = hdbscan.HDBSCAN(min_cluster_size=1000)"
   ]
  },
  {
   "cell_type": "code",
   "execution_count": 12,
   "id": "102912fa",
   "metadata": {},
   "outputs": [
    {
     "data": {
      "text/html": [
       "<style>#sk-container-id-1 {color: black;background-color: white;}#sk-container-id-1 pre{padding: 0;}#sk-container-id-1 div.sk-toggleable {background-color: white;}#sk-container-id-1 label.sk-toggleable__label {cursor: pointer;display: block;width: 100%;margin-bottom: 0;padding: 0.3em;box-sizing: border-box;text-align: center;}#sk-container-id-1 label.sk-toggleable__label-arrow:before {content: \"▸\";float: left;margin-right: 0.25em;color: #696969;}#sk-container-id-1 label.sk-toggleable__label-arrow:hover:before {color: black;}#sk-container-id-1 div.sk-estimator:hover label.sk-toggleable__label-arrow:before {color: black;}#sk-container-id-1 div.sk-toggleable__content {max-height: 0;max-width: 0;overflow: hidden;text-align: left;background-color: #f0f8ff;}#sk-container-id-1 div.sk-toggleable__content pre {margin: 0.2em;color: black;border-radius: 0.25em;background-color: #f0f8ff;}#sk-container-id-1 input.sk-toggleable__control:checked~div.sk-toggleable__content {max-height: 200px;max-width: 100%;overflow: auto;}#sk-container-id-1 input.sk-toggleable__control:checked~label.sk-toggleable__label-arrow:before {content: \"▾\";}#sk-container-id-1 div.sk-estimator input.sk-toggleable__control:checked~label.sk-toggleable__label {background-color: #d4ebff;}#sk-container-id-1 div.sk-label input.sk-toggleable__control:checked~label.sk-toggleable__label {background-color: #d4ebff;}#sk-container-id-1 input.sk-hidden--visually {border: 0;clip: rect(1px 1px 1px 1px);clip: rect(1px, 1px, 1px, 1px);height: 1px;margin: -1px;overflow: hidden;padding: 0;position: absolute;width: 1px;}#sk-container-id-1 div.sk-estimator {font-family: monospace;background-color: #f0f8ff;border: 1px dotted black;border-radius: 0.25em;box-sizing: border-box;margin-bottom: 0.5em;}#sk-container-id-1 div.sk-estimator:hover {background-color: #d4ebff;}#sk-container-id-1 div.sk-parallel-item::after {content: \"\";width: 100%;border-bottom: 1px solid gray;flex-grow: 1;}#sk-container-id-1 div.sk-label:hover label.sk-toggleable__label {background-color: #d4ebff;}#sk-container-id-1 div.sk-serial::before {content: \"\";position: absolute;border-left: 1px solid gray;box-sizing: border-box;top: 0;bottom: 0;left: 50%;z-index: 0;}#sk-container-id-1 div.sk-serial {display: flex;flex-direction: column;align-items: center;background-color: white;padding-right: 0.2em;padding-left: 0.2em;position: relative;}#sk-container-id-1 div.sk-item {position: relative;z-index: 1;}#sk-container-id-1 div.sk-parallel {display: flex;align-items: stretch;justify-content: center;background-color: white;position: relative;}#sk-container-id-1 div.sk-item::before, #sk-container-id-1 div.sk-parallel-item::before {content: \"\";position: absolute;border-left: 1px solid gray;box-sizing: border-box;top: 0;bottom: 0;left: 50%;z-index: -1;}#sk-container-id-1 div.sk-parallel-item {display: flex;flex-direction: column;z-index: 1;position: relative;background-color: white;}#sk-container-id-1 div.sk-parallel-item:first-child::after {align-self: flex-end;width: 50%;}#sk-container-id-1 div.sk-parallel-item:last-child::after {align-self: flex-start;width: 50%;}#sk-container-id-1 div.sk-parallel-item:only-child::after {width: 0;}#sk-container-id-1 div.sk-dashed-wrapped {border: 1px dashed gray;margin: 0 0.4em 0.5em 0.4em;box-sizing: border-box;padding-bottom: 0.4em;background-color: white;}#sk-container-id-1 div.sk-label label {font-family: monospace;font-weight: bold;display: inline-block;line-height: 1.2em;}#sk-container-id-1 div.sk-label-container {text-align: center;}#sk-container-id-1 div.sk-container {/* jupyter's `normalize.less` sets `[hidden] { display: none; }` but bootstrap.min.css set `[hidden] { display: none !important; }` so we also need the `!important` here to be able to override the default hidden behavior on the sphinx rendered scikit-learn.org. See: https://github.com/scikit-learn/scikit-learn/issues/21755 */display: inline-block !important;position: relative;}#sk-container-id-1 div.sk-text-repr-fallback {display: none;}</style><div id=\"sk-container-id-1\" class=\"sk-top-container\"><div class=\"sk-text-repr-fallback\"><pre>HDBSCAN(min_cluster_size=1000)</pre><b>In a Jupyter environment, please rerun this cell to show the HTML representation or trust the notebook. <br />On GitHub, the HTML representation is unable to render, please try loading this page with nbviewer.org.</b></div><div class=\"sk-container\" hidden><div class=\"sk-item\"><div class=\"sk-estimator sk-toggleable\"><input class=\"sk-toggleable__control sk-hidden--visually\" id=\"sk-estimator-id-1\" type=\"checkbox\" checked><label for=\"sk-estimator-id-1\" class=\"sk-toggleable__label sk-toggleable__label-arrow\">HDBSCAN</label><div class=\"sk-toggleable__content\"><pre>HDBSCAN(min_cluster_size=1000)</pre></div></div></div></div></div>"
      ],
      "text/plain": [
       "HDBSCAN(min_cluster_size=1000)"
      ]
     },
     "execution_count": 12,
     "metadata": {},
     "output_type": "execute_result"
    }
   ],
   "source": [
    "clusterer.fit(tab.iloc[:, 1:])"
   ]
  },
  {
   "cell_type": "code",
   "execution_count": 13,
   "id": "b9b82565",
   "metadata": {},
   "outputs": [
    {
     "data": {
      "text/plain": [
       "10"
      ]
     },
     "execution_count": 13,
     "metadata": {},
     "output_type": "execute_result"
    }
   ],
   "source": [
    "clusterer.labels_.max()"
   ]
  },
  {
   "cell_type": "code",
   "execution_count": 14,
   "id": "28dcdd4c",
   "metadata": {},
   "outputs": [],
   "source": [
    "tab['label'] = clusterer.labels_"
   ]
  },
  {
   "cell_type": "code",
   "execution_count": 15,
   "id": "e29eaddb",
   "metadata": {},
   "outputs": [
    {
     "data": {
      "text/plain": [
       "-1     53034\n",
       " 2     16752\n",
       " 1     13106\n",
       " 10    10068\n",
       " 8      8059\n",
       " 3      6466\n",
       " 7      4656\n",
       " 5      4195\n",
       " 9      3831\n",
       " 0      2803\n",
       " 6      2081\n",
       " 4      1016\n",
       "Name: label, dtype: int64"
      ]
     },
     "execution_count": 15,
     "metadata": {},
     "output_type": "execute_result"
    }
   ],
   "source": [
    "tab['label'].value_counts()"
   ]
  },
  {
   "cell_type": "code",
   "execution_count": 28,
   "id": "181b3570",
   "metadata": {},
   "outputs": [
    {
     "data": {
      "text/plain": [
       "(              mean_1         mean_2         mean_3    share_black  \\\n",
       " count  126067.000000  126067.000000  126067.000000  126067.000000   \n",
       " mean       74.497365      71.500658      67.022599       0.222037   \n",
       " std        76.832800      76.426525      70.685918       0.320442   \n",
       " min         0.000000      -1.000000      -1.000000       0.000000   \n",
       " 25%         5.082080       2.423266       7.748592       0.003022   \n",
       " 50%        57.244522      48.741419      45.344535       0.073031   \n",
       " 75%       112.462470     114.449866      94.797756       0.258060   \n",
       " max       255.000000     255.000000     255.000000       1.000000   \n",
       " \n",
       "           share_blue    share_brown          noOil          label  \n",
       " count  126067.000000  126067.000000  126067.000000  126067.000000  \n",
       " mean        0.094213       0.104290       0.130613       2.242633  \n",
       " std         0.242577       0.254139       0.336978       3.793717  \n",
       " min         0.000000       0.000000       0.000000      -1.000000  \n",
       " 25%         0.000000       0.000000       0.000000      -1.000000  \n",
       " 50%         0.000002       0.000001       0.000000       1.000000  \n",
       " 75%         0.002054       0.007265       0.000000       5.000000  \n",
       " max         1.000000       1.000000       1.000000      10.000000  ,\n",
       " 126067)"
      ]
     },
     "execution_count": 28,
     "metadata": {},
     "output_type": "execute_result"
    }
   ],
   "source": [
    "tab.describe(), len(tab)"
   ]
  },
  {
   "cell_type": "code",
   "execution_count": 29,
   "id": "7ec39097",
   "metadata": {},
   "outputs": [
    {
     "data": {
      "text/plain": [
       "(             mean_1        mean_2        mean_3   share_black    share_blue  \\\n",
       " count  53034.000000  53034.000000  53034.000000  53034.000000  53034.000000   \n",
       " mean      66.516070     71.374822     66.857158      0.164798      0.043289   \n",
       " std       60.616150     63.163217     54.195915      0.223378      0.113573   \n",
       " min        0.000000     -1.000000     -1.000000      0.000000      0.000000   \n",
       " 25%        9.856006     14.018700     25.798425      0.005597      0.000000   \n",
       " 50%       44.939289     51.412050     51.983938      0.089724      0.000004   \n",
       " 75%      119.181612    127.381708    110.540488      0.227336      0.004351   \n",
       " max      245.906247    242.448334    234.735467      1.000000      0.840000   \n",
       " \n",
       "         share_brown         noOil    label  \n",
       " count  53034.000000  53034.000000  53034.0  \n",
       " mean       0.053801      0.164668     -1.0  \n",
       " std        0.127823      0.370884      0.0  \n",
       " min        0.000000      0.000000     -1.0  \n",
       " 25%        0.000000      0.000000     -1.0  \n",
       " 50%        0.000002      0.000000     -1.0  \n",
       " 75%        0.012649      0.000000     -1.0  \n",
       " max        0.887134      1.000000     -1.0  ,\n",
       " 53034)"
      ]
     },
     "execution_count": 29,
     "metadata": {},
     "output_type": "execute_result"
    }
   ],
   "source": [
    "tab[tab['label'] == -1].describe(), len(tab[tab['label'] == -1])"
   ]
  },
  {
   "cell_type": "code",
   "execution_count": 40,
   "id": "410ce42d",
   "metadata": {},
   "outputs": [],
   "source": [
    "# -1, судя по всему можно говорить, что нефть --- это достаточно чёрные точки."
   ]
  },
  {
   "cell_type": "code",
   "execution_count": 41,
   "id": "63045709",
   "metadata": {},
   "outputs": [
    {
     "data": {
      "text/html": [
       "<div>\n",
       "<style scoped>\n",
       "    .dataframe tbody tr th:only-of-type {\n",
       "        vertical-align: middle;\n",
       "    }\n",
       "\n",
       "    .dataframe tbody tr th {\n",
       "        vertical-align: top;\n",
       "    }\n",
       "\n",
       "    .dataframe thead th {\n",
       "        text-align: right;\n",
       "    }\n",
       "</style>\n",
       "<table border=\"1\" class=\"dataframe\">\n",
       "  <thead>\n",
       "    <tr style=\"text-align: right;\">\n",
       "      <th></th>\n",
       "      <th>file</th>\n",
       "      <th>mean_1</th>\n",
       "      <th>mean_2</th>\n",
       "      <th>mean_3</th>\n",
       "      <th>share_black</th>\n",
       "      <th>share_blue</th>\n",
       "      <th>share_brown</th>\n",
       "      <th>noOil</th>\n",
       "      <th>label</th>\n",
       "    </tr>\n",
       "  </thead>\n",
       "  <tbody>\n",
       "    <tr>\n",
       "      <th>1</th>\n",
       "      <td>maxar_16thJuly_1_27_335.png</td>\n",
       "      <td>8.719782</td>\n",
       "      <td>14.980542</td>\n",
       "      <td>48.084315</td>\n",
       "      <td>0.432021</td>\n",
       "      <td>0.000004</td>\n",
       "      <td>0.0</td>\n",
       "      <td>1</td>\n",
       "      <td>-1</td>\n",
       "    </tr>\n",
       "    <tr>\n",
       "      <th>3</th>\n",
       "      <td>maxar_11Sept_1_9_127.png</td>\n",
       "      <td>36.879239</td>\n",
       "      <td>-1.000000</td>\n",
       "      <td>-1.000000</td>\n",
       "      <td>0.607519</td>\n",
       "      <td>0.000000</td>\n",
       "      <td>0.0</td>\n",
       "      <td>0</td>\n",
       "      <td>-1</td>\n",
       "    </tr>\n",
       "    <tr>\n",
       "      <th>5</th>\n",
       "      <td>maxar_14Sept_3_9_182.png</td>\n",
       "      <td>184.461082</td>\n",
       "      <td>182.420919</td>\n",
       "      <td>181.425045</td>\n",
       "      <td>0.000000</td>\n",
       "      <td>0.000000</td>\n",
       "      <td>0.0</td>\n",
       "      <td>0</td>\n",
       "      <td>-1</td>\n",
       "    </tr>\n",
       "    <tr>\n",
       "      <th>8</th>\n",
       "      <td>maxar_13thAugust_25_77.png</td>\n",
       "      <td>1.186694</td>\n",
       "      <td>3.116357</td>\n",
       "      <td>25.274257</td>\n",
       "      <td>0.021045</td>\n",
       "      <td>0.000000</td>\n",
       "      <td>0.0</td>\n",
       "      <td>0</td>\n",
       "      <td>-1</td>\n",
       "    </tr>\n",
       "    <tr>\n",
       "      <th>9</th>\n",
       "      <td>maxar_8thSeptember_19_65.png</td>\n",
       "      <td>47.028882</td>\n",
       "      <td>79.428786</td>\n",
       "      <td>53.069106</td>\n",
       "      <td>0.051311</td>\n",
       "      <td>0.000000</td>\n",
       "      <td>0.0</td>\n",
       "      <td>0</td>\n",
       "      <td>-1</td>\n",
       "    </tr>\n",
       "  </tbody>\n",
       "</table>\n",
       "</div>"
      ],
      "text/plain": [
       "                           file      mean_1      mean_2      mean_3  \\\n",
       "1   maxar_16thJuly_1_27_335.png    8.719782   14.980542   48.084315   \n",
       "3      maxar_11Sept_1_9_127.png   36.879239   -1.000000   -1.000000   \n",
       "5      maxar_14Sept_3_9_182.png  184.461082  182.420919  181.425045   \n",
       "8    maxar_13thAugust_25_77.png    1.186694    3.116357   25.274257   \n",
       "9  maxar_8thSeptember_19_65.png   47.028882   79.428786   53.069106   \n",
       "\n",
       "   share_black  share_blue  share_brown  noOil  label  \n",
       "1     0.432021    0.000004          0.0      1     -1  \n",
       "3     0.607519    0.000000          0.0      0     -1  \n",
       "5     0.000000    0.000000          0.0      0     -1  \n",
       "8     0.021045    0.000000          0.0      0     -1  \n",
       "9     0.051311    0.000000          0.0      0     -1  "
      ]
     },
     "execution_count": 41,
     "metadata": {},
     "output_type": "execute_result"
    }
   ],
   "source": [
    "tab[tab['label'] == -1].head()"
   ]
  },
  {
   "cell_type": "code",
   "execution_count": 43,
   "id": "02589e81",
   "metadata": {},
   "outputs": [
    {
     "data": {
      "text/plain": [
       "(            mean_1  mean_2  mean_3  share_black  share_blue  share_brown  \\\n",
       " count  2803.000000  2803.0  2803.0  2803.000000      2803.0       2803.0   \n",
       " mean    225.558924    -1.0    -1.0     0.044958         0.0          0.0   \n",
       " std      24.052922     0.0     0.0     0.081743         0.0          0.0   \n",
       " min     160.236460    -1.0    -1.0     0.000000         0.0          0.0   \n",
       " 25%     199.701797    -1.0    -1.0     0.000000         0.0          0.0   \n",
       " 50%     226.236000    -1.0    -1.0     0.000000         0.0          0.0   \n",
       " 75%     250.742482    -1.0    -1.0     0.112433         0.0          0.0   \n",
       " max     255.000000    -1.0    -1.0     0.298514         0.0          0.0   \n",
       " \n",
       "              noOil   label  \n",
       " count  2803.000000  2803.0  \n",
       " mean      0.001427     0.0  \n",
       " std       0.037756     0.0  \n",
       " min       0.000000     0.0  \n",
       " 25%       0.000000     0.0  \n",
       " 50%       0.000000     0.0  \n",
       " 75%       0.000000     0.0  \n",
       " max       1.000000     0.0  ,\n",
       " 2803)"
      ]
     },
     "execution_count": 43,
     "metadata": {},
     "output_type": "execute_result"
    }
   ],
   "source": [
    "tab[tab['label'] == 0].describe(), len(tab[tab['label'] == 0])"
   ]
  },
  {
   "cell_type": "code",
   "execution_count": 44,
   "id": "e26dc68e",
   "metadata": {},
   "outputs": [
    {
     "data": {
      "text/html": [
       "<div>\n",
       "<style scoped>\n",
       "    .dataframe tbody tr th:only-of-type {\n",
       "        vertical-align: middle;\n",
       "    }\n",
       "\n",
       "    .dataframe tbody tr th {\n",
       "        vertical-align: top;\n",
       "    }\n",
       "\n",
       "    .dataframe thead th {\n",
       "        text-align: right;\n",
       "    }\n",
       "</style>\n",
       "<table border=\"1\" class=\"dataframe\">\n",
       "  <thead>\n",
       "    <tr style=\"text-align: right;\">\n",
       "      <th></th>\n",
       "      <th>file</th>\n",
       "      <th>mean_1</th>\n",
       "      <th>mean_2</th>\n",
       "      <th>mean_3</th>\n",
       "      <th>share_black</th>\n",
       "      <th>share_blue</th>\n",
       "      <th>share_brown</th>\n",
       "      <th>noOil</th>\n",
       "      <th>label</th>\n",
       "    </tr>\n",
       "  </thead>\n",
       "  <tbody>\n",
       "    <tr>\n",
       "      <th>82</th>\n",
       "      <td>maxar_7thSeptember_24_242.png</td>\n",
       "      <td>254.999964</td>\n",
       "      <td>-1.0</td>\n",
       "      <td>-1.0</td>\n",
       "      <td>0.0000</td>\n",
       "      <td>0.0</td>\n",
       "      <td>0.0</td>\n",
       "      <td>0</td>\n",
       "      <td>0</td>\n",
       "    </tr>\n",
       "    <tr>\n",
       "      <th>159</th>\n",
       "      <td>maxar_11Sept_1_32_225.png</td>\n",
       "      <td>199.512000</td>\n",
       "      <td>-1.0</td>\n",
       "      <td>-1.0</td>\n",
       "      <td>0.2176</td>\n",
       "      <td>0.0</td>\n",
       "      <td>0.0</td>\n",
       "      <td>0</td>\n",
       "      <td>0</td>\n",
       "    </tr>\n",
       "    <tr>\n",
       "      <th>228</th>\n",
       "      <td>maxar_7thSeptember_18_177.png</td>\n",
       "      <td>180.576945</td>\n",
       "      <td>-1.0</td>\n",
       "      <td>-1.0</td>\n",
       "      <td>0.0000</td>\n",
       "      <td>0.0</td>\n",
       "      <td>0.0</td>\n",
       "      <td>0</td>\n",
       "      <td>0</td>\n",
       "    </tr>\n",
       "    <tr>\n",
       "      <th>243</th>\n",
       "      <td>maxar_7thSeptember_26_211.png</td>\n",
       "      <td>226.084730</td>\n",
       "      <td>-1.0</td>\n",
       "      <td>-1.0</td>\n",
       "      <td>0.0000</td>\n",
       "      <td>0.0</td>\n",
       "      <td>0.0</td>\n",
       "      <td>0</td>\n",
       "      <td>0</td>\n",
       "    </tr>\n",
       "    <tr>\n",
       "      <th>298</th>\n",
       "      <td>maxar_7thSeptember_26_202.png</td>\n",
       "      <td>244.104950</td>\n",
       "      <td>-1.0</td>\n",
       "      <td>-1.0</td>\n",
       "      <td>0.0000</td>\n",
       "      <td>0.0</td>\n",
       "      <td>0.0</td>\n",
       "      <td>0</td>\n",
       "      <td>0</td>\n",
       "    </tr>\n",
       "  </tbody>\n",
       "</table>\n",
       "</div>"
      ],
      "text/plain": [
       "                              file      mean_1  mean_2  mean_3  share_black  \\\n",
       "82   maxar_7thSeptember_24_242.png  254.999964    -1.0    -1.0       0.0000   \n",
       "159      maxar_11Sept_1_32_225.png  199.512000    -1.0    -1.0       0.2176   \n",
       "228  maxar_7thSeptember_18_177.png  180.576945    -1.0    -1.0       0.0000   \n",
       "243  maxar_7thSeptember_26_211.png  226.084730    -1.0    -1.0       0.0000   \n",
       "298  maxar_7thSeptember_26_202.png  244.104950    -1.0    -1.0       0.0000   \n",
       "\n",
       "     share_blue  share_brown  noOil  label  \n",
       "82          0.0          0.0      0      0  \n",
       "159         0.0          0.0      0      0  \n",
       "228         0.0          0.0      0      0  \n",
       "243         0.0          0.0      0      0  \n",
       "298         0.0          0.0      0      0  "
      ]
     },
     "execution_count": 44,
     "metadata": {},
     "output_type": "execute_result"
    }
   ],
   "source": [
    "tab[tab['label'] == 0].head()"
   ]
  },
  {
   "cell_type": "code",
   "execution_count": 45,
   "id": "1d02f096",
   "metadata": {},
   "outputs": [],
   "source": [
    "#судя по всеме можно считать, что нефть --- все достаточно, чёрные точки (надо учитывать, что тут изображения чёрно-белые)"
   ]
  },
  {
   "cell_type": "code",
   "execution_count": 30,
   "id": "004f3651",
   "metadata": {},
   "outputs": [
    {
     "data": {
      "text/plain": [
       "(             mean_1        mean_2        mean_3   share_black    share_blue  \\\n",
       " count  13106.000000  13106.000000  13106.000000  13106.000000  13106.000000   \n",
       " mean     230.019841    231.558122    225.457124      0.001551      0.709445   \n",
       " std       26.014953     24.325056     29.082112      0.006792      0.289943   \n",
       " min      145.286246    151.653749    138.806548      0.000000      0.000000   \n",
       " 25%      211.640450    214.200000    204.542949      0.000000      0.503729   \n",
       " 50%      238.815713    239.797032    233.622630      0.000000      0.788800   \n",
       " 75%      253.633854    253.645733    252.840810      0.000022      0.987168   \n",
       " max      255.000000    255.000000    255.000000      0.192612      1.000000   \n",
       " \n",
       "         share_brown         noOil    label  \n",
       " count  13106.000000  13106.000000  13106.0  \n",
       " mean       0.757083      0.099802      1.0  \n",
       " std        0.264332      0.299747      0.0  \n",
       " min        0.000000      0.000000      1.0  \n",
       " 25%        0.595302      0.000000      1.0  \n",
       " 50%        0.841428      0.000000      1.0  \n",
       " 75%        0.997051      0.000000      1.0  \n",
       " max        1.000000      1.000000      1.0  ,\n",
       " 13106)"
      ]
     },
     "execution_count": 30,
     "metadata": {},
     "output_type": "execute_result"
    }
   ],
   "source": [
    "tab[tab['label'] == 1].describe(), len(tab[tab['label'] == 1])"
   ]
  },
  {
   "cell_type": "code",
   "execution_count": 42,
   "id": "8f7434d4",
   "metadata": {},
   "outputs": [],
   "source": [
    "# судя по всему, есть смысл говорить, что тут нефти нет"
   ]
  },
  {
   "cell_type": "code",
   "execution_count": 46,
   "id": "eee2ec8f",
   "metadata": {},
   "outputs": [
    {
     "data": {
      "text/html": [
       "<div>\n",
       "<style scoped>\n",
       "    .dataframe tbody tr th:only-of-type {\n",
       "        vertical-align: middle;\n",
       "    }\n",
       "\n",
       "    .dataframe tbody tr th {\n",
       "        vertical-align: top;\n",
       "    }\n",
       "\n",
       "    .dataframe thead th {\n",
       "        text-align: right;\n",
       "    }\n",
       "</style>\n",
       "<table border=\"1\" class=\"dataframe\">\n",
       "  <thead>\n",
       "    <tr style=\"text-align: right;\">\n",
       "      <th></th>\n",
       "      <th>file</th>\n",
       "      <th>mean_1</th>\n",
       "      <th>mean_2</th>\n",
       "      <th>mean_3</th>\n",
       "      <th>share_black</th>\n",
       "      <th>share_blue</th>\n",
       "      <th>share_brown</th>\n",
       "      <th>noOil</th>\n",
       "      <th>label</th>\n",
       "    </tr>\n",
       "  </thead>\n",
       "  <tbody>\n",
       "    <tr>\n",
       "      <th>4</th>\n",
       "      <td>maxar_14Sept_1_2_148.png</td>\n",
       "      <td>250.580704</td>\n",
       "      <td>252.296048</td>\n",
       "      <td>250.878830</td>\n",
       "      <td>0.000000</td>\n",
       "      <td>0.943358</td>\n",
       "      <td>0.967063</td>\n",
       "      <td>0</td>\n",
       "      <td>1</td>\n",
       "    </tr>\n",
       "    <tr>\n",
       "      <th>6</th>\n",
       "      <td>maxar_14Sept_5_14_213.png</td>\n",
       "      <td>235.582193</td>\n",
       "      <td>237.351584</td>\n",
       "      <td>230.734923</td>\n",
       "      <td>0.000020</td>\n",
       "      <td>0.807806</td>\n",
       "      <td>0.834908</td>\n",
       "      <td>0</td>\n",
       "      <td>1</td>\n",
       "    </tr>\n",
       "    <tr>\n",
       "      <th>7</th>\n",
       "      <td>maxar_8thAugust_1_26_96.png</td>\n",
       "      <td>175.312651</td>\n",
       "      <td>179.803370</td>\n",
       "      <td>172.750798</td>\n",
       "      <td>0.000031</td>\n",
       "      <td>0.094610</td>\n",
       "      <td>0.163644</td>\n",
       "      <td>0</td>\n",
       "      <td>1</td>\n",
       "    </tr>\n",
       "    <tr>\n",
       "      <th>27</th>\n",
       "      <td>maxar_14Sept_3_29_120.png</td>\n",
       "      <td>215.259991</td>\n",
       "      <td>213.257746</td>\n",
       "      <td>211.001318</td>\n",
       "      <td>0.000000</td>\n",
       "      <td>0.308912</td>\n",
       "      <td>0.331878</td>\n",
       "      <td>0</td>\n",
       "      <td>1</td>\n",
       "    </tr>\n",
       "    <tr>\n",
       "      <th>33</th>\n",
       "      <td>maxar_14Sept_2_15_27.png</td>\n",
       "      <td>205.062284</td>\n",
       "      <td>212.775010</td>\n",
       "      <td>202.658553</td>\n",
       "      <td>0.003359</td>\n",
       "      <td>0.466716</td>\n",
       "      <td>0.548053</td>\n",
       "      <td>0</td>\n",
       "      <td>1</td>\n",
       "    </tr>\n",
       "  </tbody>\n",
       "</table>\n",
       "</div>"
      ],
      "text/plain": [
       "                           file      mean_1      mean_2      mean_3  \\\n",
       "4      maxar_14Sept_1_2_148.png  250.580704  252.296048  250.878830   \n",
       "6     maxar_14Sept_5_14_213.png  235.582193  237.351584  230.734923   \n",
       "7   maxar_8thAugust_1_26_96.png  175.312651  179.803370  172.750798   \n",
       "27    maxar_14Sept_3_29_120.png  215.259991  213.257746  211.001318   \n",
       "33     maxar_14Sept_2_15_27.png  205.062284  212.775010  202.658553   \n",
       "\n",
       "    share_black  share_blue  share_brown  noOil  label  \n",
       "4      0.000000    0.943358     0.967063      0      1  \n",
       "6      0.000020    0.807806     0.834908      0      1  \n",
       "7      0.000031    0.094610     0.163644      0      1  \n",
       "27     0.000000    0.308912     0.331878      0      1  \n",
       "33     0.003359    0.466716     0.548053      0      1  "
      ]
     },
     "execution_count": 46,
     "metadata": {},
     "output_type": "execute_result"
    }
   ],
   "source": [
    "tab[tab['label'] == 1].head()"
   ]
  },
  {
   "cell_type": "code",
   "execution_count": 31,
   "id": "6afa686a",
   "metadata": {},
   "outputs": [
    {
     "data": {
      "text/plain": [
       "(             mean_1        mean_2        mean_3   share_black    share_blue  \\\n",
       " count  16752.000000  16752.000000  16752.000000  16752.000000  16752.000000   \n",
       " mean      78.648563     92.114225     56.581395      0.040461      0.005586   \n",
       " std       22.682602     20.861645     19.222121      0.040747      0.021156   \n",
       " min       24.296298     37.979707     14.730286      0.000000      0.000000   \n",
       " 25%       62.138802     77.839808     42.650470      0.010817      0.000000   \n",
       " 50%       80.158914     94.276486     56.860831      0.027599      0.000002   \n",
       " 75%       95.587456    106.854918     69.755408      0.059254      0.001308   \n",
       " max      131.619925    142.329390    108.214677      0.490679      0.284753   \n",
       " \n",
       "         share_brown         noOil    label  \n",
       " count  16752.000000  16752.000000  16752.0  \n",
       " mean       0.010767      0.174546      2.0  \n",
       " std        0.030839      0.379590      0.0  \n",
       " min        0.000000      0.000000      2.0  \n",
       " 25%        0.000000      0.000000      2.0  \n",
       " 50%        0.000071      0.000000      2.0  \n",
       " 75%        0.004273      0.000000      2.0  \n",
       " max        0.307502      1.000000      2.0  ,\n",
       " 16752)"
      ]
     },
     "execution_count": 31,
     "metadata": {},
     "output_type": "execute_result"
    }
   ],
   "source": [
    "tab[tab['label'] == 2].describe(), len(tab[tab['label'] == 2])"
   ]
  },
  {
   "cell_type": "code",
   "execution_count": 47,
   "id": "63456b70",
   "metadata": {},
   "outputs": [
    {
     "data": {
      "text/html": [
       "<div>\n",
       "<style scoped>\n",
       "    .dataframe tbody tr th:only-of-type {\n",
       "        vertical-align: middle;\n",
       "    }\n",
       "\n",
       "    .dataframe tbody tr th {\n",
       "        vertical-align: top;\n",
       "    }\n",
       "\n",
       "    .dataframe thead th {\n",
       "        text-align: right;\n",
       "    }\n",
       "</style>\n",
       "<table border=\"1\" class=\"dataframe\">\n",
       "  <thead>\n",
       "    <tr style=\"text-align: right;\">\n",
       "      <th></th>\n",
       "      <th>file</th>\n",
       "      <th>mean_1</th>\n",
       "      <th>mean_2</th>\n",
       "      <th>mean_3</th>\n",
       "      <th>share_black</th>\n",
       "      <th>share_blue</th>\n",
       "      <th>share_brown</th>\n",
       "      <th>noOil</th>\n",
       "      <th>label</th>\n",
       "    </tr>\n",
       "  </thead>\n",
       "  <tbody>\n",
       "    <tr>\n",
       "      <th>2</th>\n",
       "      <td>maxar_14Sept_1_13_180.png</td>\n",
       "      <td>114.169012</td>\n",
       "      <td>123.246468</td>\n",
       "      <td>87.522911</td>\n",
       "      <td>0.002528</td>\n",
       "      <td>0.002116</td>\n",
       "      <td>0.008070</td>\n",
       "      <td>0</td>\n",
       "      <td>2</td>\n",
       "    </tr>\n",
       "    <tr>\n",
       "      <th>16</th>\n",
       "      <td>maxar_8thSeptember_10_53.png</td>\n",
       "      <td>99.599681</td>\n",
       "      <td>117.731271</td>\n",
       "      <td>65.589536</td>\n",
       "      <td>0.000161</td>\n",
       "      <td>0.000000</td>\n",
       "      <td>0.000000</td>\n",
       "      <td>0</td>\n",
       "      <td>2</td>\n",
       "    </tr>\n",
       "    <tr>\n",
       "      <th>20</th>\n",
       "      <td>maxar_14Sept_1_9_60.png</td>\n",
       "      <td>93.753422</td>\n",
       "      <td>98.074862</td>\n",
       "      <td>73.266585</td>\n",
       "      <td>0.041425</td>\n",
       "      <td>0.001734</td>\n",
       "      <td>0.022214</td>\n",
       "      <td>0</td>\n",
       "      <td>2</td>\n",
       "    </tr>\n",
       "    <tr>\n",
       "      <th>23</th>\n",
       "      <td>maxar_16thJuly_2_16_38.png</td>\n",
       "      <td>81.797302</td>\n",
       "      <td>101.009834</td>\n",
       "      <td>57.634922</td>\n",
       "      <td>0.024116</td>\n",
       "      <td>0.000977</td>\n",
       "      <td>0.001332</td>\n",
       "      <td>1</td>\n",
       "      <td>2</td>\n",
       "    </tr>\n",
       "    <tr>\n",
       "      <th>25</th>\n",
       "      <td>maxar_8thSeptember_1_43.png</td>\n",
       "      <td>92.064854</td>\n",
       "      <td>90.572692</td>\n",
       "      <td>59.202542</td>\n",
       "      <td>0.001734</td>\n",
       "      <td>0.000197</td>\n",
       "      <td>0.000223</td>\n",
       "      <td>0</td>\n",
       "      <td>2</td>\n",
       "    </tr>\n",
       "  </tbody>\n",
       "</table>\n",
       "</div>"
      ],
      "text/plain": [
       "                            file      mean_1      mean_2     mean_3  \\\n",
       "2      maxar_14Sept_1_13_180.png  114.169012  123.246468  87.522911   \n",
       "16  maxar_8thSeptember_10_53.png   99.599681  117.731271  65.589536   \n",
       "20       maxar_14Sept_1_9_60.png   93.753422   98.074862  73.266585   \n",
       "23    maxar_16thJuly_2_16_38.png   81.797302  101.009834  57.634922   \n",
       "25   maxar_8thSeptember_1_43.png   92.064854   90.572692  59.202542   \n",
       "\n",
       "    share_black  share_blue  share_brown  noOil  label  \n",
       "2      0.002528    0.002116     0.008070      0      2  \n",
       "16     0.000161    0.000000     0.000000      0      2  \n",
       "20     0.041425    0.001734     0.022214      0      2  \n",
       "23     0.024116    0.000977     0.001332      1      2  \n",
       "25     0.001734    0.000197     0.000223      0      2  "
      ]
     },
     "execution_count": 47,
     "metadata": {},
     "output_type": "execute_result"
    }
   ],
   "source": [
    "tab[tab['label'] == 2].head()"
   ]
  },
  {
   "cell_type": "code",
   "execution_count": null,
   "id": "18e84608",
   "metadata": {},
   "outputs": [],
   "source": [
    "#исключаем весь кластер --- это земля, а не вода"
   ]
  },
  {
   "cell_type": "code",
   "execution_count": 32,
   "id": "85dcd3d7",
   "metadata": {},
   "outputs": [
    {
     "data": {
      "text/plain": [
       "(            mean_1       mean_2       mean_3  share_black   share_blue  \\\n",
       " count  6466.000000  6466.000000  6466.000000  6466.000000  6466.000000   \n",
       " mean     67.161331    73.806171    86.415015     0.038135     0.029266   \n",
       " std      10.591154     9.422933     8.783333     0.063882     0.080614   \n",
       " min      34.344354    46.867250    55.315673     0.000000     0.000000   \n",
       " 25%      60.363894    66.693031    79.935051     0.000002     0.000021   \n",
       " 50%      66.779332    74.260456    87.738033     0.000611     0.000096   \n",
       " 75%      73.458818    79.689005    92.835796     0.062869     0.000306   \n",
       " max      94.927888   100.199163   105.482805     0.641596     0.345268   \n",
       " \n",
       "        share_brown        noOil   label  \n",
       " count  6466.000000  6466.000000  6466.0  \n",
       " mean      0.029553     0.080575     3.0  \n",
       " std       0.080745     0.272203     0.0  \n",
       " min       0.000000     0.000000     3.0  \n",
       " 25%       0.000012     0.000000     3.0  \n",
       " 50%       0.000069     0.000000     3.0  \n",
       " 75%       0.000252     0.000000     3.0  \n",
       " max       0.345980     1.000000     3.0  ,\n",
       " 6466)"
      ]
     },
     "execution_count": 32,
     "metadata": {},
     "output_type": "execute_result"
    }
   ],
   "source": [
    "tab[tab['label'] == 3].describe(), len(tab[tab['label'] == 3])"
   ]
  },
  {
   "cell_type": "code",
   "execution_count": 48,
   "id": "ec476e91",
   "metadata": {},
   "outputs": [
    {
     "data": {
      "text/html": [
       "<div>\n",
       "<style scoped>\n",
       "    .dataframe tbody tr th:only-of-type {\n",
       "        vertical-align: middle;\n",
       "    }\n",
       "\n",
       "    .dataframe tbody tr th {\n",
       "        vertical-align: top;\n",
       "    }\n",
       "\n",
       "    .dataframe thead th {\n",
       "        text-align: right;\n",
       "    }\n",
       "</style>\n",
       "<table border=\"1\" class=\"dataframe\">\n",
       "  <thead>\n",
       "    <tr style=\"text-align: right;\">\n",
       "      <th></th>\n",
       "      <th>file</th>\n",
       "      <th>mean_1</th>\n",
       "      <th>mean_2</th>\n",
       "      <th>mean_3</th>\n",
       "      <th>share_black</th>\n",
       "      <th>share_blue</th>\n",
       "      <th>share_brown</th>\n",
       "      <th>noOil</th>\n",
       "      <th>label</th>\n",
       "    </tr>\n",
       "  </thead>\n",
       "  <tbody>\n",
       "    <tr>\n",
       "      <th>17</th>\n",
       "      <td>maxar_14Sept_3_10_236.png</td>\n",
       "      <td>60.574622</td>\n",
       "      <td>66.482929</td>\n",
       "      <td>80.143217</td>\n",
       "      <td>0.000044</td>\n",
       "      <td>0.000042</td>\n",
       "      <td>0.000017</td>\n",
       "      <td>0</td>\n",
       "      <td>3</td>\n",
       "    </tr>\n",
       "    <tr>\n",
       "      <th>31</th>\n",
       "      <td>maxar_14Sept_3_23_104.png</td>\n",
       "      <td>64.721438</td>\n",
       "      <td>68.342393</td>\n",
       "      <td>81.488972</td>\n",
       "      <td>0.000335</td>\n",
       "      <td>0.000000</td>\n",
       "      <td>0.000000</td>\n",
       "      <td>0</td>\n",
       "      <td>3</td>\n",
       "    </tr>\n",
       "    <tr>\n",
       "      <th>38</th>\n",
       "      <td>maxar_14Sept_3_12_53.png</td>\n",
       "      <td>62.283194</td>\n",
       "      <td>71.889186</td>\n",
       "      <td>88.519340</td>\n",
       "      <td>0.000000</td>\n",
       "      <td>0.000062</td>\n",
       "      <td>0.000043</td>\n",
       "      <td>0</td>\n",
       "      <td>3</td>\n",
       "    </tr>\n",
       "    <tr>\n",
       "      <th>47</th>\n",
       "      <td>maxar_14Sept_3_15_85.png</td>\n",
       "      <td>69.088470</td>\n",
       "      <td>73.513926</td>\n",
       "      <td>86.846007</td>\n",
       "      <td>0.046689</td>\n",
       "      <td>0.000027</td>\n",
       "      <td>0.000017</td>\n",
       "      <td>0</td>\n",
       "      <td>3</td>\n",
       "    </tr>\n",
       "    <tr>\n",
       "      <th>49</th>\n",
       "      <td>maxar_8thAugust_1_11_45.png</td>\n",
       "      <td>75.119913</td>\n",
       "      <td>86.175414</td>\n",
       "      <td>94.871307</td>\n",
       "      <td>0.068427</td>\n",
       "      <td>0.000000</td>\n",
       "      <td>0.000000</td>\n",
       "      <td>0</td>\n",
       "      <td>3</td>\n",
       "    </tr>\n",
       "  </tbody>\n",
       "</table>\n",
       "</div>"
      ],
      "text/plain": [
       "                           file     mean_1     mean_2     mean_3  share_black  \\\n",
       "17    maxar_14Sept_3_10_236.png  60.574622  66.482929  80.143217     0.000044   \n",
       "31    maxar_14Sept_3_23_104.png  64.721438  68.342393  81.488972     0.000335   \n",
       "38     maxar_14Sept_3_12_53.png  62.283194  71.889186  88.519340     0.000000   \n",
       "47     maxar_14Sept_3_15_85.png  69.088470  73.513926  86.846007     0.046689   \n",
       "49  maxar_8thAugust_1_11_45.png  75.119913  86.175414  94.871307     0.068427   \n",
       "\n",
       "    share_blue  share_brown  noOil  label  \n",
       "17    0.000042     0.000017      0      3  \n",
       "31    0.000000     0.000000      0      3  \n",
       "38    0.000062     0.000043      0      3  \n",
       "47    0.000027     0.000017      0      3  \n",
       "49    0.000000     0.000000      0      3  "
      ]
     },
     "execution_count": 48,
     "metadata": {},
     "output_type": "execute_result"
    }
   ],
   "source": [
    "tab[tab['label'] == 3].head()"
   ]
  },
  {
   "cell_type": "code",
   "execution_count": 49,
   "id": "516c80be",
   "metadata": {},
   "outputs": [],
   "source": [
    "# нефть --- это достаточно чёрные точки"
   ]
  },
  {
   "cell_type": "code",
   "execution_count": 33,
   "id": "a9c07f56",
   "metadata": {},
   "outputs": [
    {
     "data": {
      "text/plain": [
       "(            mean_1  mean_2  mean_3  share_black  share_blue  share_brown  \\\n",
       " count  1016.000000  1016.0  1016.0  1016.000000      1016.0       1016.0   \n",
       " mean     51.007101    -1.0    -1.0     0.291242         0.0          0.0   \n",
       " std       2.252427     0.0     0.0     0.134575         0.0          0.0   \n",
       " min      47.046565    -1.0    -1.0     0.000714         0.0          0.0   \n",
       " 25%      49.159674    -1.0    -1.0     0.199404         0.0          0.0   \n",
       " 50%      50.881498    -1.0    -1.0     0.276151         0.0          0.0   \n",
       " 75%      52.758238    -1.0    -1.0     0.374772         0.0          0.0   \n",
       " max      55.666514    -1.0    -1.0     0.793631         0.0          0.0   \n",
       " \n",
       "              noOil   label  \n",
       " count  1016.000000  1016.0  \n",
       " mean      0.007874     4.0  \n",
       " std       0.088429     0.0  \n",
       " min       0.000000     4.0  \n",
       " 25%       0.000000     4.0  \n",
       " 50%       0.000000     4.0  \n",
       " 75%       0.000000     4.0  \n",
       " max       1.000000     4.0  ,\n",
       " 1016)"
      ]
     },
     "execution_count": 33,
     "metadata": {},
     "output_type": "execute_result"
    }
   ],
   "source": [
    "tab[tab['label'] == 4].describe(), len(tab[tab['label'] == 4])"
   ]
  },
  {
   "cell_type": "code",
   "execution_count": 50,
   "id": "a49a6c15",
   "metadata": {},
   "outputs": [
    {
     "data": {
      "text/html": [
       "<div>\n",
       "<style scoped>\n",
       "    .dataframe tbody tr th:only-of-type {\n",
       "        vertical-align: middle;\n",
       "    }\n",
       "\n",
       "    .dataframe tbody tr th {\n",
       "        vertical-align: top;\n",
       "    }\n",
       "\n",
       "    .dataframe thead th {\n",
       "        text-align: right;\n",
       "    }\n",
       "</style>\n",
       "<table border=\"1\" class=\"dataframe\">\n",
       "  <thead>\n",
       "    <tr style=\"text-align: right;\">\n",
       "      <th></th>\n",
       "      <th>file</th>\n",
       "      <th>mean_1</th>\n",
       "      <th>mean_2</th>\n",
       "      <th>mean_3</th>\n",
       "      <th>share_black</th>\n",
       "      <th>share_blue</th>\n",
       "      <th>share_brown</th>\n",
       "      <th>noOil</th>\n",
       "      <th>label</th>\n",
       "    </tr>\n",
       "  </thead>\n",
       "  <tbody>\n",
       "    <tr>\n",
       "      <th>149</th>\n",
       "      <td>maxar_7thSeptember_3_250.png</td>\n",
       "      <td>51.982713</td>\n",
       "      <td>-1.0</td>\n",
       "      <td>-1.0</td>\n",
       "      <td>0.210889</td>\n",
       "      <td>0.0</td>\n",
       "      <td>0.0</td>\n",
       "      <td>0</td>\n",
       "      <td>4</td>\n",
       "    </tr>\n",
       "    <tr>\n",
       "      <th>201</th>\n",
       "      <td>maxar_7thSeptember_28_4.png</td>\n",
       "      <td>53.795385</td>\n",
       "      <td>-1.0</td>\n",
       "      <td>-1.0</td>\n",
       "      <td>0.319813</td>\n",
       "      <td>0.0</td>\n",
       "      <td>0.0</td>\n",
       "      <td>0</td>\n",
       "      <td>4</td>\n",
       "    </tr>\n",
       "    <tr>\n",
       "      <th>311</th>\n",
       "      <td>maxar_7thSeptember_6_274.png</td>\n",
       "      <td>48.483934</td>\n",
       "      <td>-1.0</td>\n",
       "      <td>-1.0</td>\n",
       "      <td>0.293537</td>\n",
       "      <td>0.0</td>\n",
       "      <td>0.0</td>\n",
       "      <td>0</td>\n",
       "      <td>4</td>\n",
       "    </tr>\n",
       "    <tr>\n",
       "      <th>375</th>\n",
       "      <td>maxar_7thSeptember_8_275.png</td>\n",
       "      <td>48.969143</td>\n",
       "      <td>-1.0</td>\n",
       "      <td>-1.0</td>\n",
       "      <td>0.279857</td>\n",
       "      <td>0.0</td>\n",
       "      <td>0.0</td>\n",
       "      <td>0</td>\n",
       "      <td>4</td>\n",
       "    </tr>\n",
       "    <tr>\n",
       "      <th>384</th>\n",
       "      <td>maxar_7thSeptember_9_263.png</td>\n",
       "      <td>52.282511</td>\n",
       "      <td>-1.0</td>\n",
       "      <td>-1.0</td>\n",
       "      <td>0.166004</td>\n",
       "      <td>0.0</td>\n",
       "      <td>0.0</td>\n",
       "      <td>0</td>\n",
       "      <td>4</td>\n",
       "    </tr>\n",
       "  </tbody>\n",
       "</table>\n",
       "</div>"
      ],
      "text/plain": [
       "                             file     mean_1  mean_2  mean_3  share_black  \\\n",
       "149  maxar_7thSeptember_3_250.png  51.982713    -1.0    -1.0     0.210889   \n",
       "201   maxar_7thSeptember_28_4.png  53.795385    -1.0    -1.0     0.319813   \n",
       "311  maxar_7thSeptember_6_274.png  48.483934    -1.0    -1.0     0.293537   \n",
       "375  maxar_7thSeptember_8_275.png  48.969143    -1.0    -1.0     0.279857   \n",
       "384  maxar_7thSeptember_9_263.png  52.282511    -1.0    -1.0     0.166004   \n",
       "\n",
       "     share_blue  share_brown  noOil  label  \n",
       "149         0.0          0.0      0      4  \n",
       "201         0.0          0.0      0      4  \n",
       "311         0.0          0.0      0      4  \n",
       "375         0.0          0.0      0      4  \n",
       "384         0.0          0.0      0      4  "
      ]
     },
     "execution_count": 50,
     "metadata": {},
     "output_type": "execute_result"
    }
   ],
   "source": [
    "tab[tab['label'] == 4].head()"
   ]
  },
  {
   "cell_type": "code",
   "execution_count": 51,
   "id": "b330ae24",
   "metadata": {},
   "outputs": [],
   "source": [
    "#нефть --- это достаточно чёрные точки"
   ]
  },
  {
   "cell_type": "code",
   "execution_count": 34,
   "id": "3af41ab6",
   "metadata": {},
   "outputs": [
    {
     "data": {
      "text/plain": [
       "(            mean_1  mean_2  mean_3  share_black  share_blue  share_brown  \\\n",
       " count  4195.000000  4195.0  4195.0  4195.000000      4195.0       4195.0   \n",
       " mean     72.882537    -1.0    -1.0     0.054858         0.0          0.0   \n",
       " std       5.204126     0.0     0.0     0.088280         0.0          0.0   \n",
       " min      61.351018    -1.0    -1.0     0.000000         0.0          0.0   \n",
       " 25%      68.698858    -1.0    -1.0     0.012538         0.0          0.0   \n",
       " 50%      73.075015    -1.0    -1.0     0.036944         0.0          0.0   \n",
       " 75%      76.785199    -1.0    -1.0     0.050817         0.0          0.0   \n",
       " max      84.148798    -1.0    -1.0     0.756828         0.0          0.0   \n",
       " \n",
       "              noOil   label  \n",
       " count  4195.000000  4195.0  \n",
       " mean      0.034565     5.0  \n",
       " std       0.182697     0.0  \n",
       " min       0.000000     5.0  \n",
       " 25%       0.000000     5.0  \n",
       " 50%       0.000000     5.0  \n",
       " 75%       0.000000     5.0  \n",
       " max       1.000000     5.0  ,\n",
       " 4195)"
      ]
     },
     "execution_count": 34,
     "metadata": {},
     "output_type": "execute_result"
    }
   ],
   "source": [
    "tab[tab['label'] == 5].describe(), len(tab[tab['label'] == 5])"
   ]
  },
  {
   "cell_type": "code",
   "execution_count": 52,
   "id": "73668ed1",
   "metadata": {},
   "outputs": [
    {
     "data": {
      "text/html": [
       "<div>\n",
       "<style scoped>\n",
       "    .dataframe tbody tr th:only-of-type {\n",
       "        vertical-align: middle;\n",
       "    }\n",
       "\n",
       "    .dataframe tbody tr th {\n",
       "        vertical-align: top;\n",
       "    }\n",
       "\n",
       "    .dataframe thead th {\n",
       "        text-align: right;\n",
       "    }\n",
       "</style>\n",
       "<table border=\"1\" class=\"dataframe\">\n",
       "  <thead>\n",
       "    <tr style=\"text-align: right;\">\n",
       "      <th></th>\n",
       "      <th>file</th>\n",
       "      <th>mean_1</th>\n",
       "      <th>mean_2</th>\n",
       "      <th>mean_3</th>\n",
       "      <th>share_black</th>\n",
       "      <th>share_blue</th>\n",
       "      <th>share_brown</th>\n",
       "      <th>noOil</th>\n",
       "      <th>label</th>\n",
       "    </tr>\n",
       "  </thead>\n",
       "  <tbody>\n",
       "    <tr>\n",
       "      <th>13</th>\n",
       "      <td>maxar_11Sept_1_8_177.png</td>\n",
       "      <td>61.896164</td>\n",
       "      <td>-1.0</td>\n",
       "      <td>-1.0</td>\n",
       "      <td>0.079066</td>\n",
       "      <td>0.0</td>\n",
       "      <td>0.0</td>\n",
       "      <td>0</td>\n",
       "      <td>5</td>\n",
       "    </tr>\n",
       "    <tr>\n",
       "      <th>46</th>\n",
       "      <td>maxar_7thSeptember_25_77.png</td>\n",
       "      <td>77.045159</td>\n",
       "      <td>-1.0</td>\n",
       "      <td>-1.0</td>\n",
       "      <td>0.009073</td>\n",
       "      <td>0.0</td>\n",
       "      <td>0.0</td>\n",
       "      <td>0</td>\n",
       "      <td>5</td>\n",
       "    </tr>\n",
       "    <tr>\n",
       "      <th>58</th>\n",
       "      <td>maxar_7thSeptember_10_126.png</td>\n",
       "      <td>67.742795</td>\n",
       "      <td>-1.0</td>\n",
       "      <td>-1.0</td>\n",
       "      <td>0.026171</td>\n",
       "      <td>0.0</td>\n",
       "      <td>0.0</td>\n",
       "      <td>0</td>\n",
       "      <td>5</td>\n",
       "    </tr>\n",
       "    <tr>\n",
       "      <th>61</th>\n",
       "      <td>maxar_7thSeptember_19_116.png</td>\n",
       "      <td>77.197762</td>\n",
       "      <td>-1.0</td>\n",
       "      <td>-1.0</td>\n",
       "      <td>0.003114</td>\n",
       "      <td>0.0</td>\n",
       "      <td>0.0</td>\n",
       "      <td>0</td>\n",
       "      <td>5</td>\n",
       "    </tr>\n",
       "    <tr>\n",
       "      <th>81</th>\n",
       "      <td>maxar_7thSeptember_20_35.png</td>\n",
       "      <td>76.496476</td>\n",
       "      <td>-1.0</td>\n",
       "      <td>-1.0</td>\n",
       "      <td>0.048651</td>\n",
       "      <td>0.0</td>\n",
       "      <td>0.0</td>\n",
       "      <td>0</td>\n",
       "      <td>5</td>\n",
       "    </tr>\n",
       "  </tbody>\n",
       "</table>\n",
       "</div>"
      ],
      "text/plain": [
       "                             file     mean_1  mean_2  mean_3  share_black  \\\n",
       "13       maxar_11Sept_1_8_177.png  61.896164    -1.0    -1.0     0.079066   \n",
       "46   maxar_7thSeptember_25_77.png  77.045159    -1.0    -1.0     0.009073   \n",
       "58  maxar_7thSeptember_10_126.png  67.742795    -1.0    -1.0     0.026171   \n",
       "61  maxar_7thSeptember_19_116.png  77.197762    -1.0    -1.0     0.003114   \n",
       "81   maxar_7thSeptember_20_35.png  76.496476    -1.0    -1.0     0.048651   \n",
       "\n",
       "    share_blue  share_brown  noOil  label  \n",
       "13         0.0          0.0      0      5  \n",
       "46         0.0          0.0      0      5  \n",
       "58         0.0          0.0      0      5  \n",
       "61         0.0          0.0      0      5  \n",
       "81         0.0          0.0      0      5  "
      ]
     },
     "execution_count": 52,
     "metadata": {},
     "output_type": "execute_result"
    }
   ],
   "source": [
    "tab[tab['label'] == 5].head()"
   ]
  },
  {
   "cell_type": "code",
   "execution_count": 53,
   "id": "43876e8d",
   "metadata": {},
   "outputs": [],
   "source": [
    "# нефть --- это достаточно чёрные точки"
   ]
  },
  {
   "cell_type": "code",
   "execution_count": 35,
   "id": "5cec7440",
   "metadata": {},
   "outputs": [
    {
     "data": {
      "text/plain": [
       "(            mean_1       mean_2       mean_3  share_black   share_blue  \\\n",
       " count  2081.000000  2081.000000  2081.000000  2081.000000  2081.000000   \n",
       " mean     12.376851    23.225414    57.235099     0.275853     0.000006   \n",
       " std       0.915980     1.408282     1.942054     0.099306     0.000007   \n",
       " min       6.253186    18.382827    46.793110     0.078218     0.000000   \n",
       " 25%      12.039820    22.459617    56.161232     0.197636     0.000001   \n",
       " 50%      12.535974    23.300422    57.538985     0.245323     0.000004   \n",
       " 75%      12.890043    24.215084    58.528832     0.350535     0.000009   \n",
       " max      16.376882    28.147951    61.731340     0.466324     0.000065   \n",
       " \n",
       "        share_brown        noOil   label  \n",
       " count  2081.000000  2081.000000  2081.0  \n",
       " mean      0.000001     0.510332     6.0  \n",
       " std       0.000003     0.500013     0.0  \n",
       " min       0.000000     0.000000     6.0  \n",
       " 25%       0.000000     0.000000     6.0  \n",
       " 50%       0.000000     1.000000     6.0  \n",
       " 75%       0.000000     1.000000     6.0  \n",
       " max       0.000043     1.000000     6.0  ,\n",
       " 2081)"
      ]
     },
     "execution_count": 35,
     "metadata": {},
     "output_type": "execute_result"
    }
   ],
   "source": [
    "tab[tab['label'] == 6].describe(), len(tab[tab['label'] == 6])"
   ]
  },
  {
   "cell_type": "code",
   "execution_count": 54,
   "id": "892f303a",
   "metadata": {},
   "outputs": [
    {
     "data": {
      "text/html": [
       "<div>\n",
       "<style scoped>\n",
       "    .dataframe tbody tr th:only-of-type {\n",
       "        vertical-align: middle;\n",
       "    }\n",
       "\n",
       "    .dataframe tbody tr th {\n",
       "        vertical-align: top;\n",
       "    }\n",
       "\n",
       "    .dataframe thead th {\n",
       "        text-align: right;\n",
       "    }\n",
       "</style>\n",
       "<table border=\"1\" class=\"dataframe\">\n",
       "  <thead>\n",
       "    <tr style=\"text-align: right;\">\n",
       "      <th></th>\n",
       "      <th>file</th>\n",
       "      <th>mean_1</th>\n",
       "      <th>mean_2</th>\n",
       "      <th>mean_3</th>\n",
       "      <th>share_black</th>\n",
       "      <th>share_blue</th>\n",
       "      <th>share_brown</th>\n",
       "      <th>noOil</th>\n",
       "      <th>label</th>\n",
       "    </tr>\n",
       "  </thead>\n",
       "  <tbody>\n",
       "    <tr>\n",
       "      <th>18</th>\n",
       "      <td>maxar_8thAugust_1_18_343.png</td>\n",
       "      <td>13.237050</td>\n",
       "      <td>24.913367</td>\n",
       "      <td>60.042407</td>\n",
       "      <td>0.229360</td>\n",
       "      <td>0.000009</td>\n",
       "      <td>0.000001</td>\n",
       "      <td>0</td>\n",
       "      <td>6</td>\n",
       "    </tr>\n",
       "    <tr>\n",
       "      <th>83</th>\n",
       "      <td>maxar_16thJuly_1_13_348.png</td>\n",
       "      <td>12.587974</td>\n",
       "      <td>24.179826</td>\n",
       "      <td>60.219868</td>\n",
       "      <td>0.262674</td>\n",
       "      <td>0.000007</td>\n",
       "      <td>0.000000</td>\n",
       "      <td>1</td>\n",
       "      <td>6</td>\n",
       "    </tr>\n",
       "    <tr>\n",
       "      <th>137</th>\n",
       "      <td>maxar_8thAugust_1_9_341.png</td>\n",
       "      <td>12.363150</td>\n",
       "      <td>23.398031</td>\n",
       "      <td>59.297266</td>\n",
       "      <td>0.265702</td>\n",
       "      <td>0.000002</td>\n",
       "      <td>0.000000</td>\n",
       "      <td>0</td>\n",
       "      <td>6</td>\n",
       "    </tr>\n",
       "    <tr>\n",
       "      <th>310</th>\n",
       "      <td>maxar_8thAugust_1_9_321.png</td>\n",
       "      <td>12.077179</td>\n",
       "      <td>22.599681</td>\n",
       "      <td>58.227618</td>\n",
       "      <td>0.237894</td>\n",
       "      <td>0.000005</td>\n",
       "      <td>0.000000</td>\n",
       "      <td>0</td>\n",
       "      <td>6</td>\n",
       "    </tr>\n",
       "    <tr>\n",
       "      <th>416</th>\n",
       "      <td>maxar_8thAugust_1_6_325.png</td>\n",
       "      <td>12.928327</td>\n",
       "      <td>23.718993</td>\n",
       "      <td>57.979935</td>\n",
       "      <td>0.212022</td>\n",
       "      <td>0.000030</td>\n",
       "      <td>0.000015</td>\n",
       "      <td>0</td>\n",
       "      <td>6</td>\n",
       "    </tr>\n",
       "  </tbody>\n",
       "</table>\n",
       "</div>"
      ],
      "text/plain": [
       "                             file     mean_1     mean_2     mean_3  \\\n",
       "18   maxar_8thAugust_1_18_343.png  13.237050  24.913367  60.042407   \n",
       "83    maxar_16thJuly_1_13_348.png  12.587974  24.179826  60.219868   \n",
       "137   maxar_8thAugust_1_9_341.png  12.363150  23.398031  59.297266   \n",
       "310   maxar_8thAugust_1_9_321.png  12.077179  22.599681  58.227618   \n",
       "416   maxar_8thAugust_1_6_325.png  12.928327  23.718993  57.979935   \n",
       "\n",
       "     share_black  share_blue  share_brown  noOil  label  \n",
       "18      0.229360    0.000009     0.000001      0      6  \n",
       "83      0.262674    0.000007     0.000000      1      6  \n",
       "137     0.265702    0.000002     0.000000      0      6  \n",
       "310     0.237894    0.000005     0.000000      0      6  \n",
       "416     0.212022    0.000030     0.000015      0      6  "
      ]
     },
     "execution_count": 54,
     "metadata": {},
     "output_type": "execute_result"
    }
   ],
   "source": [
    "tab[tab['label'] == 6].head()"
   ]
  },
  {
   "cell_type": "code",
   "execution_count": 55,
   "id": "cd18f9db",
   "metadata": {},
   "outputs": [],
   "source": [
    "#лучше выкинуть весь кластер, ни одной нормальной картинки"
   ]
  },
  {
   "cell_type": "code",
   "execution_count": 36,
   "id": "c6502156",
   "metadata": {},
   "outputs": [
    {
     "data": {
      "text/plain": [
       "(            mean_1       mean_2       mean_3  share_black   share_blue  \\\n",
       " count  4656.000000  4656.000000  4656.000000  4656.000000  4656.000000   \n",
       " mean      2.291422    18.741402    39.309071     0.239096     0.000012   \n",
       " std       1.040046     2.856833     3.202108     0.088073     0.000161   \n",
       " min       0.934252     8.160386    30.444846     0.051430     0.000000   \n",
       " 25%       1.589458    16.684088    37.079278     0.168746     0.000001   \n",
       " 50%       1.990222    19.389358    39.963124     0.238884     0.000004   \n",
       " 75%       2.232339    20.925497    41.568367     0.298489     0.000009   \n",
       " max       6.110159    24.695882    45.754066     0.482825     0.008612   \n",
       " \n",
       "        share_brown        noOil   label  \n",
       " count  4656.000000  4656.000000  4656.0  \n",
       " mean      0.000008     0.091280     7.0  \n",
       " std       0.000171     0.288038     0.0  \n",
       " min       0.000000     0.000000     7.0  \n",
       " 25%       0.000000     0.000000     7.0  \n",
       " 50%       0.000000     0.000000     7.0  \n",
       " 75%       0.000002     0.000000     7.0  \n",
       " max       0.009143     1.000000     7.0  ,\n",
       " 4656)"
      ]
     },
     "execution_count": 36,
     "metadata": {},
     "output_type": "execute_result"
    }
   ],
   "source": [
    "tab[tab['label'] == 7].describe(), len(tab[tab['label'] == 7])"
   ]
  },
  {
   "cell_type": "code",
   "execution_count": 56,
   "id": "8b886b77",
   "metadata": {},
   "outputs": [
    {
     "data": {
      "text/html": [
       "<div>\n",
       "<style scoped>\n",
       "    .dataframe tbody tr th:only-of-type {\n",
       "        vertical-align: middle;\n",
       "    }\n",
       "\n",
       "    .dataframe tbody tr th {\n",
       "        vertical-align: top;\n",
       "    }\n",
       "\n",
       "    .dataframe thead th {\n",
       "        text-align: right;\n",
       "    }\n",
       "</style>\n",
       "<table border=\"1\" class=\"dataframe\">\n",
       "  <thead>\n",
       "    <tr style=\"text-align: right;\">\n",
       "      <th></th>\n",
       "      <th>file</th>\n",
       "      <th>mean_1</th>\n",
       "      <th>mean_2</th>\n",
       "      <th>mean_3</th>\n",
       "      <th>share_black</th>\n",
       "      <th>share_blue</th>\n",
       "      <th>share_brown</th>\n",
       "      <th>noOil</th>\n",
       "      <th>label</th>\n",
       "    </tr>\n",
       "  </thead>\n",
       "  <tbody>\n",
       "    <tr>\n",
       "      <th>45</th>\n",
       "      <td>maxar_12thAugust_3_8_96.png</td>\n",
       "      <td>2.052122</td>\n",
       "      <td>21.445807</td>\n",
       "      <td>39.439623</td>\n",
       "      <td>0.118025</td>\n",
       "      <td>0.000001</td>\n",
       "      <td>0.000000</td>\n",
       "      <td>0</td>\n",
       "      <td>7</td>\n",
       "    </tr>\n",
       "    <tr>\n",
       "      <th>111</th>\n",
       "      <td>maxar_12thAugust_3_14_41.png</td>\n",
       "      <td>2.301547</td>\n",
       "      <td>21.479391</td>\n",
       "      <td>40.232231</td>\n",
       "      <td>0.195712</td>\n",
       "      <td>0.000028</td>\n",
       "      <td>0.000015</td>\n",
       "      <td>0</td>\n",
       "      <td>7</td>\n",
       "    </tr>\n",
       "    <tr>\n",
       "      <th>116</th>\n",
       "      <td>maxar_12thAugust_3_19_164.png</td>\n",
       "      <td>1.088613</td>\n",
       "      <td>15.166358</td>\n",
       "      <td>38.812192</td>\n",
       "      <td>0.188834</td>\n",
       "      <td>0.000000</td>\n",
       "      <td>0.000000</td>\n",
       "      <td>0</td>\n",
       "      <td>7</td>\n",
       "    </tr>\n",
       "    <tr>\n",
       "      <th>117</th>\n",
       "      <td>maxar_16thJuly_1_6_62.png</td>\n",
       "      <td>5.369014</td>\n",
       "      <td>19.461172</td>\n",
       "      <td>35.211454</td>\n",
       "      <td>0.266210</td>\n",
       "      <td>0.000001</td>\n",
       "      <td>0.000000</td>\n",
       "      <td>1</td>\n",
       "      <td>7</td>\n",
       "    </tr>\n",
       "    <tr>\n",
       "      <th>147</th>\n",
       "      <td>maxar_12thAugust_3_10_41.png</td>\n",
       "      <td>2.209233</td>\n",
       "      <td>21.090097</td>\n",
       "      <td>38.874101</td>\n",
       "      <td>0.148201</td>\n",
       "      <td>0.000016</td>\n",
       "      <td>0.000002</td>\n",
       "      <td>0</td>\n",
       "      <td>7</td>\n",
       "    </tr>\n",
       "  </tbody>\n",
       "</table>\n",
       "</div>"
      ],
      "text/plain": [
       "                              file    mean_1     mean_2     mean_3  \\\n",
       "45     maxar_12thAugust_3_8_96.png  2.052122  21.445807  39.439623   \n",
       "111   maxar_12thAugust_3_14_41.png  2.301547  21.479391  40.232231   \n",
       "116  maxar_12thAugust_3_19_164.png  1.088613  15.166358  38.812192   \n",
       "117      maxar_16thJuly_1_6_62.png  5.369014  19.461172  35.211454   \n",
       "147   maxar_12thAugust_3_10_41.png  2.209233  21.090097  38.874101   \n",
       "\n",
       "     share_black  share_blue  share_brown  noOil  label  \n",
       "45      0.118025    0.000001     0.000000      0      7  \n",
       "111     0.195712    0.000028     0.000015      0      7  \n",
       "116     0.188834    0.000000     0.000000      0      7  \n",
       "117     0.266210    0.000001     0.000000      1      7  \n",
       "147     0.148201    0.000016     0.000002      0      7  "
      ]
     },
     "execution_count": 56,
     "metadata": {},
     "output_type": "execute_result"
    }
   ],
   "source": [
    "tab[tab['label'] == 7].head()"
   ]
  },
  {
   "cell_type": "code",
   "execution_count": 57,
   "id": "29461262",
   "metadata": {},
   "outputs": [],
   "source": [
    "#лучше выкинуть весь кластер, ни одной нормальной картинки"
   ]
  },
  {
   "cell_type": "code",
   "execution_count": 37,
   "id": "b9397fce",
   "metadata": {},
   "outputs": [
    {
     "data": {
      "text/plain": [
       "(            mean_1       mean_2       mean_3  share_black   share_blue  \\\n",
       " count  8059.000000  8059.000000  8059.000000  8059.000000  8059.000000   \n",
       " mean      2.538062     7.416938    20.097663     0.282782     0.000056   \n",
       " std       1.149874     3.796448     4.157124     0.156394     0.000151   \n",
       " min       0.562290     1.047611     8.906047     0.012495     0.000000   \n",
       " 25%       1.630258     4.634937    17.008621     0.198179     0.000000   \n",
       " 50%       2.156226     7.141580    20.230816     0.251669     0.000001   \n",
       " 75%       3.348794    10.338684    23.435386     0.346430     0.000021   \n",
       " max       6.771700    16.962610    29.480841     0.930374     0.003376   \n",
       " \n",
       "        share_brown        noOil   label  \n",
       " count  8059.000000  8059.000000  8059.0  \n",
       " mean      0.000055     0.129421     8.0  \n",
       " std       0.000152     0.335686     0.0  \n",
       " min       0.000000     0.000000     8.0  \n",
       " 25%       0.000000     0.000000     8.0  \n",
       " 50%       0.000000     0.000000     8.0  \n",
       " 75%       0.000018     0.000000     8.0  \n",
       " max       0.003546     1.000000     8.0  ,\n",
       " 8059)"
      ]
     },
     "execution_count": 37,
     "metadata": {},
     "output_type": "execute_result"
    }
   ],
   "source": [
    "tab[tab['label'] == 8].describe(), len(tab[tab['label'] == 8])"
   ]
  },
  {
   "cell_type": "code",
   "execution_count": 58,
   "id": "905e8a7c",
   "metadata": {},
   "outputs": [
    {
     "data": {
      "text/html": [
       "<div>\n",
       "<style scoped>\n",
       "    .dataframe tbody tr th:only-of-type {\n",
       "        vertical-align: middle;\n",
       "    }\n",
       "\n",
       "    .dataframe tbody tr th {\n",
       "        vertical-align: top;\n",
       "    }\n",
       "\n",
       "    .dataframe thead th {\n",
       "        text-align: right;\n",
       "    }\n",
       "</style>\n",
       "<table border=\"1\" class=\"dataframe\">\n",
       "  <thead>\n",
       "    <tr style=\"text-align: right;\">\n",
       "      <th></th>\n",
       "      <th>file</th>\n",
       "      <th>mean_1</th>\n",
       "      <th>mean_2</th>\n",
       "      <th>mean_3</th>\n",
       "      <th>share_black</th>\n",
       "      <th>share_blue</th>\n",
       "      <th>share_brown</th>\n",
       "      <th>noOil</th>\n",
       "      <th>label</th>\n",
       "    </tr>\n",
       "  </thead>\n",
       "  <tbody>\n",
       "    <tr>\n",
       "      <th>26</th>\n",
       "      <td>maxar_12thAugust_1_23_62.png</td>\n",
       "      <td>1.916537</td>\n",
       "      <td>5.499328</td>\n",
       "      <td>21.288944</td>\n",
       "      <td>0.107518</td>\n",
       "      <td>0.000000</td>\n",
       "      <td>0.000000</td>\n",
       "      <td>0</td>\n",
       "      <td>8</td>\n",
       "    </tr>\n",
       "    <tr>\n",
       "      <th>36</th>\n",
       "      <td>maxar_12thAugust_3_13_254.png</td>\n",
       "      <td>1.784777</td>\n",
       "      <td>6.366538</td>\n",
       "      <td>20.778550</td>\n",
       "      <td>0.211402</td>\n",
       "      <td>0.000000</td>\n",
       "      <td>0.000000</td>\n",
       "      <td>0</td>\n",
       "      <td>8</td>\n",
       "    </tr>\n",
       "    <tr>\n",
       "      <th>51</th>\n",
       "      <td>maxar_12thAugust_1_28_63.png</td>\n",
       "      <td>1.757111</td>\n",
       "      <td>6.183844</td>\n",
       "      <td>23.794796</td>\n",
       "      <td>0.135823</td>\n",
       "      <td>0.000000</td>\n",
       "      <td>0.000000</td>\n",
       "      <td>0</td>\n",
       "      <td>8</td>\n",
       "    </tr>\n",
       "    <tr>\n",
       "      <th>76</th>\n",
       "      <td>maxar_13thAugust_38_47.png</td>\n",
       "      <td>1.902439</td>\n",
       "      <td>1.095618</td>\n",
       "      <td>15.471566</td>\n",
       "      <td>0.841748</td>\n",
       "      <td>0.000001</td>\n",
       "      <td>0.000001</td>\n",
       "      <td>0</td>\n",
       "      <td>8</td>\n",
       "    </tr>\n",
       "    <tr>\n",
       "      <th>93</th>\n",
       "      <td>maxar_14Sept_5_27_320.png</td>\n",
       "      <td>2.619979</td>\n",
       "      <td>9.866260</td>\n",
       "      <td>24.677713</td>\n",
       "      <td>0.281072</td>\n",
       "      <td>0.000070</td>\n",
       "      <td>0.000062</td>\n",
       "      <td>0</td>\n",
       "      <td>8</td>\n",
       "    </tr>\n",
       "  </tbody>\n",
       "</table>\n",
       "</div>"
      ],
      "text/plain": [
       "                             file    mean_1    mean_2     mean_3  share_black  \\\n",
       "26   maxar_12thAugust_1_23_62.png  1.916537  5.499328  21.288944     0.107518   \n",
       "36  maxar_12thAugust_3_13_254.png  1.784777  6.366538  20.778550     0.211402   \n",
       "51   maxar_12thAugust_1_28_63.png  1.757111  6.183844  23.794796     0.135823   \n",
       "76     maxar_13thAugust_38_47.png  1.902439  1.095618  15.471566     0.841748   \n",
       "93      maxar_14Sept_5_27_320.png  2.619979  9.866260  24.677713     0.281072   \n",
       "\n",
       "    share_blue  share_brown  noOil  label  \n",
       "26    0.000000     0.000000      0      8  \n",
       "36    0.000000     0.000000      0      8  \n",
       "51    0.000000     0.000000      0      8  \n",
       "76    0.000001     0.000001      0      8  \n",
       "93    0.000070     0.000062      0      8  "
      ]
     },
     "execution_count": 58,
     "metadata": {},
     "output_type": "execute_result"
    }
   ],
   "source": [
    "tab[tab['label'] == 8].head()"
   ]
  },
  {
   "cell_type": "code",
   "execution_count": 59,
   "id": "452aa4b0",
   "metadata": {},
   "outputs": [],
   "source": [
    "# лучше выкинуть весь кластер, ни одной нормальной картинки"
   ]
  },
  {
   "cell_type": "code",
   "execution_count": 38,
   "id": "aa93b8c6",
   "metadata": {},
   "outputs": [
    {
     "data": {
      "text/plain": [
       "(            mean_1  mean_2  mean_3  share_black  share_blue  share_brown  \\\n",
       " count  3831.000000  3831.0  3831.0  3831.000000      3831.0       3831.0   \n",
       " mean      0.975789    -1.0    -1.0     0.999339         0.0          0.0   \n",
       " std       0.358594     0.0     0.0     0.001574         0.0          0.0   \n",
       " min       0.000000    -1.0    -1.0     0.981076         0.0          0.0   \n",
       " 25%       1.000654    -1.0    -1.0     0.999835         0.0          0.0   \n",
       " 50%       1.001953    -1.0    -1.0     0.999979         0.0          0.0   \n",
       " 75%       1.023944    -1.0    -1.0     0.999994         0.0          0.0   \n",
       " max       2.079321    -1.0    -1.0     1.000000         0.0          0.0   \n",
       " \n",
       "              noOil   label  \n",
       " count  3831.000000  3831.0  \n",
       " mean      0.021665     9.0  \n",
       " std       0.145607     0.0  \n",
       " min       0.000000     9.0  \n",
       " 25%       0.000000     9.0  \n",
       " 50%       0.000000     9.0  \n",
       " 75%       0.000000     9.0  \n",
       " max       1.000000     9.0  ,\n",
       " 3831)"
      ]
     },
     "execution_count": 38,
     "metadata": {},
     "output_type": "execute_result"
    }
   ],
   "source": [
    "tab[tab['label'] == 9].describe(), len(tab[tab['label'] == 9])"
   ]
  },
  {
   "cell_type": "code",
   "execution_count": 60,
   "id": "4597bbfa",
   "metadata": {},
   "outputs": [
    {
     "data": {
      "text/html": [
       "<div>\n",
       "<style scoped>\n",
       "    .dataframe tbody tr th:only-of-type {\n",
       "        vertical-align: middle;\n",
       "    }\n",
       "\n",
       "    .dataframe tbody tr th {\n",
       "        vertical-align: top;\n",
       "    }\n",
       "\n",
       "    .dataframe thead th {\n",
       "        text-align: right;\n",
       "    }\n",
       "</style>\n",
       "<table border=\"1\" class=\"dataframe\">\n",
       "  <thead>\n",
       "    <tr style=\"text-align: right;\">\n",
       "      <th></th>\n",
       "      <th>file</th>\n",
       "      <th>mean_1</th>\n",
       "      <th>mean_2</th>\n",
       "      <th>mean_3</th>\n",
       "      <th>share_black</th>\n",
       "      <th>share_blue</th>\n",
       "      <th>share_brown</th>\n",
       "      <th>noOil</th>\n",
       "      <th>label</th>\n",
       "    </tr>\n",
       "  </thead>\n",
       "  <tbody>\n",
       "    <tr>\n",
       "      <th>12</th>\n",
       "      <td>maxar_11Sept_1_27_290.png</td>\n",
       "      <td>1.001254</td>\n",
       "      <td>-1.0</td>\n",
       "      <td>-1.0</td>\n",
       "      <td>0.999988</td>\n",
       "      <td>0.0</td>\n",
       "      <td>0.0</td>\n",
       "      <td>0</td>\n",
       "      <td>9</td>\n",
       "    </tr>\n",
       "    <tr>\n",
       "      <th>54</th>\n",
       "      <td>maxar_11Sept_1_10_249.png</td>\n",
       "      <td>1.001696</td>\n",
       "      <td>-1.0</td>\n",
       "      <td>-1.0</td>\n",
       "      <td>0.999988</td>\n",
       "      <td>0.0</td>\n",
       "      <td>0.0</td>\n",
       "      <td>0</td>\n",
       "      <td>9</td>\n",
       "    </tr>\n",
       "    <tr>\n",
       "      <th>59</th>\n",
       "      <td>maxar_11Sept_1_0_226.png</td>\n",
       "      <td>1.053391</td>\n",
       "      <td>-1.0</td>\n",
       "      <td>-1.0</td>\n",
       "      <td>0.999712</td>\n",
       "      <td>0.0</td>\n",
       "      <td>0.0</td>\n",
       "      <td>1</td>\n",
       "      <td>9</td>\n",
       "    </tr>\n",
       "    <tr>\n",
       "      <th>95</th>\n",
       "      <td>maxar_11Sept_1_28_288.png</td>\n",
       "      <td>1.006882</td>\n",
       "      <td>-1.0</td>\n",
       "      <td>-1.0</td>\n",
       "      <td>0.999942</td>\n",
       "      <td>0.0</td>\n",
       "      <td>0.0</td>\n",
       "      <td>0</td>\n",
       "      <td>9</td>\n",
       "    </tr>\n",
       "    <tr>\n",
       "      <th>99</th>\n",
       "      <td>maxar_11Sept_1_27_228.png</td>\n",
       "      <td>1.093922</td>\n",
       "      <td>-1.0</td>\n",
       "      <td>-1.0</td>\n",
       "      <td>0.999243</td>\n",
       "      <td>0.0</td>\n",
       "      <td>0.0</td>\n",
       "      <td>0</td>\n",
       "      <td>9</td>\n",
       "    </tr>\n",
       "  </tbody>\n",
       "</table>\n",
       "</div>"
      ],
      "text/plain": [
       "                         file    mean_1  mean_2  mean_3  share_black  \\\n",
       "12  maxar_11Sept_1_27_290.png  1.001254    -1.0    -1.0     0.999988   \n",
       "54  maxar_11Sept_1_10_249.png  1.001696    -1.0    -1.0     0.999988   \n",
       "59   maxar_11Sept_1_0_226.png  1.053391    -1.0    -1.0     0.999712   \n",
       "95  maxar_11Sept_1_28_288.png  1.006882    -1.0    -1.0     0.999942   \n",
       "99  maxar_11Sept_1_27_228.png  1.093922    -1.0    -1.0     0.999243   \n",
       "\n",
       "    share_blue  share_brown  noOil  label  \n",
       "12         0.0          0.0      0      9  \n",
       "54         0.0          0.0      0      9  \n",
       "59         0.0          0.0      1      9  \n",
       "95         0.0          0.0      0      9  \n",
       "99         0.0          0.0      0      9  "
      ]
     },
     "execution_count": 60,
     "metadata": {},
     "output_type": "execute_result"
    }
   ],
   "source": [
    "tab[tab['label'] == 9].head()"
   ]
  },
  {
   "cell_type": "code",
   "execution_count": 61,
   "id": "443837a4",
   "metadata": {},
   "outputs": [],
   "source": [
    "# лучше выкинуть весь кластер, ни одной нормальной картинки"
   ]
  },
  {
   "cell_type": "code",
   "execution_count": 39,
   "id": "6127d835",
   "metadata": {},
   "outputs": [
    {
     "data": {
      "text/plain": [
       "(             mean_1   mean_2   mean_3   share_black  share_blue  share_brown  \\\n",
       " count  10068.000000  10068.0  10068.0  10068.000000     10068.0      10068.0   \n",
       " mean       4.687663     -1.0     -1.0      0.979358         0.0          0.0   \n",
       " std        1.210041      0.0      0.0      0.015063         0.0          0.0   \n",
       " min        2.091383     -1.0     -1.0      0.906929         0.0          0.0   \n",
       " 25%        3.864153     -1.0     -1.0      0.975275         0.0          0.0   \n",
       " 50%        4.534111     -1.0     -1.0      0.984051         0.0          0.0   \n",
       " 75%        5.379759     -1.0     -1.0      0.990165         0.0          0.0   \n",
       " max        8.011445     -1.0     -1.0      1.000000         0.0          0.0   \n",
       " \n",
       "               noOil    label  \n",
       " count  10068.000000  10068.0  \n",
       " mean       0.020858     10.0  \n",
       " std        0.142917      0.0  \n",
       " min        0.000000     10.0  \n",
       " 25%        0.000000     10.0  \n",
       " 50%        0.000000     10.0  \n",
       " 75%        0.000000     10.0  \n",
       " max        1.000000     10.0  ,\n",
       " 10068)"
      ]
     },
     "execution_count": 39,
     "metadata": {},
     "output_type": "execute_result"
    }
   ],
   "source": [
    "tab[tab['label'] == 10].describe(), len(tab[tab['label'] == 10])"
   ]
  },
  {
   "cell_type": "code",
   "execution_count": 62,
   "id": "e517d6f0",
   "metadata": {},
   "outputs": [
    {
     "data": {
      "text/html": [
       "<div>\n",
       "<style scoped>\n",
       "    .dataframe tbody tr th:only-of-type {\n",
       "        vertical-align: middle;\n",
       "    }\n",
       "\n",
       "    .dataframe tbody tr th {\n",
       "        vertical-align: top;\n",
       "    }\n",
       "\n",
       "    .dataframe thead th {\n",
       "        text-align: right;\n",
       "    }\n",
       "</style>\n",
       "<table border=\"1\" class=\"dataframe\">\n",
       "  <thead>\n",
       "    <tr style=\"text-align: right;\">\n",
       "      <th></th>\n",
       "      <th>file</th>\n",
       "      <th>mean_1</th>\n",
       "      <th>mean_2</th>\n",
       "      <th>mean_3</th>\n",
       "      <th>share_black</th>\n",
       "      <th>share_blue</th>\n",
       "      <th>share_brown</th>\n",
       "      <th>noOil</th>\n",
       "      <th>label</th>\n",
       "    </tr>\n",
       "  </thead>\n",
       "  <tbody>\n",
       "    <tr>\n",
       "      <th>0</th>\n",
       "      <td>maxar_11Sept_1_1_121.png</td>\n",
       "      <td>3.971194</td>\n",
       "      <td>-1.0</td>\n",
       "      <td>-1.0</td>\n",
       "      <td>0.975929</td>\n",
       "      <td>0.0</td>\n",
       "      <td>0.0</td>\n",
       "      <td>0</td>\n",
       "      <td>10</td>\n",
       "    </tr>\n",
       "    <tr>\n",
       "      <th>14</th>\n",
       "      <td>maxar_11Sept_2_4_48.png</td>\n",
       "      <td>4.292229</td>\n",
       "      <td>-1.0</td>\n",
       "      <td>-1.0</td>\n",
       "      <td>0.983502</td>\n",
       "      <td>0.0</td>\n",
       "      <td>0.0</td>\n",
       "      <td>0</td>\n",
       "      <td>10</td>\n",
       "    </tr>\n",
       "    <tr>\n",
       "      <th>29</th>\n",
       "      <td>maxar_11Sept_2_23_48.png</td>\n",
       "      <td>5.036069</td>\n",
       "      <td>-1.0</td>\n",
       "      <td>-1.0</td>\n",
       "      <td>0.975673</td>\n",
       "      <td>0.0</td>\n",
       "      <td>0.0</td>\n",
       "      <td>0</td>\n",
       "      <td>10</td>\n",
       "    </tr>\n",
       "    <tr>\n",
       "      <th>65</th>\n",
       "      <td>maxar_11Sept_2_0_283.png</td>\n",
       "      <td>3.637799</td>\n",
       "      <td>-1.0</td>\n",
       "      <td>-1.0</td>\n",
       "      <td>0.994766</td>\n",
       "      <td>0.0</td>\n",
       "      <td>0.0</td>\n",
       "      <td>1</td>\n",
       "      <td>10</td>\n",
       "    </tr>\n",
       "    <tr>\n",
       "      <th>66</th>\n",
       "      <td>maxar_11Sept_2_22_268.png</td>\n",
       "      <td>6.915246</td>\n",
       "      <td>-1.0</td>\n",
       "      <td>-1.0</td>\n",
       "      <td>0.993792</td>\n",
       "      <td>0.0</td>\n",
       "      <td>0.0</td>\n",
       "      <td>0</td>\n",
       "      <td>10</td>\n",
       "    </tr>\n",
       "  </tbody>\n",
       "</table>\n",
       "</div>"
      ],
      "text/plain": [
       "                         file    mean_1  mean_2  mean_3  share_black  \\\n",
       "0    maxar_11Sept_1_1_121.png  3.971194    -1.0    -1.0     0.975929   \n",
       "14    maxar_11Sept_2_4_48.png  4.292229    -1.0    -1.0     0.983502   \n",
       "29   maxar_11Sept_2_23_48.png  5.036069    -1.0    -1.0     0.975673   \n",
       "65   maxar_11Sept_2_0_283.png  3.637799    -1.0    -1.0     0.994766   \n",
       "66  maxar_11Sept_2_22_268.png  6.915246    -1.0    -1.0     0.993792   \n",
       "\n",
       "    share_blue  share_brown  noOil  label  \n",
       "0          0.0          0.0      0     10  \n",
       "14         0.0          0.0      0     10  \n",
       "29         0.0          0.0      0     10  \n",
       "65         0.0          0.0      1     10  \n",
       "66         0.0          0.0      0     10  "
      ]
     },
     "execution_count": 62,
     "metadata": {},
     "output_type": "execute_result"
    }
   ],
   "source": [
    "tab[tab['label'] == 10].head()"
   ]
  },
  {
   "cell_type": "code",
   "execution_count": 63,
   "id": "9374f6be",
   "metadata": {},
   "outputs": [],
   "source": [
    "# лучше выкинуть весь кластер, ни одной нормальной картинки"
   ]
  },
  {
   "cell_type": "code",
   "execution_count": 68,
   "id": "588edb8a",
   "metadata": {},
   "outputs": [
    {
     "data": {
      "text/plain": [
       "0.46445937477690435"
      ]
     },
     "execution_count": 68,
     "metadata": {},
     "output_type": "execute_result"
    }
   ],
   "source": [
    "len(tab[~tab['label'].isin([-1, 0, 3, 4, 5])])/len(tab)"
   ]
  },
  {
   "cell_type": "code",
   "execution_count": 71,
   "id": "3281ee06",
   "metadata": {},
   "outputs": [],
   "source": [
    "tab.loc[~tab['label'].isin([-1, 0, 3, 4, 5]), 'noOil'] = 1"
   ]
  },
  {
   "cell_type": "code",
   "execution_count": 73,
   "id": "02f464e0",
   "metadata": {},
   "outputs": [
    {
     "data": {
      "text/plain": [
       "1    0.53911\n",
       "0    0.46089\n",
       "Name: noOil, dtype: float64"
      ]
     },
     "execution_count": 73,
     "metadata": {},
     "output_type": "execute_result"
    }
   ],
   "source": [
    "tab['noOil'].value_counts(normalize=True)"
   ]
  },
  {
   "cell_type": "code",
   "execution_count": 75,
   "id": "6fbe5fac",
   "metadata": {},
   "outputs": [],
   "source": [
    "tab.to_csv('../statisics_for_maxar_data_clustered.csv')"
   ]
  }
 ],
 "metadata": {
  "kernelspec": {
   "display_name": "Python 3 (ipykernel)",
   "language": "python",
   "name": "python3"
  },
  "language_info": {
   "codemirror_mode": {
    "name": "ipython",
    "version": 3
   },
   "file_extension": ".py",
   "mimetype": "text/x-python",
   "name": "python",
   "nbconvert_exporter": "python",
   "pygments_lexer": "ipython3",
   "version": "3.9.2"
  }
 },
 "nbformat": 4,
 "nbformat_minor": 5
}
